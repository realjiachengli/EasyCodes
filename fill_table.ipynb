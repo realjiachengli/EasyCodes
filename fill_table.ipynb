{
 "cells": [
  {
   "cell_type": "code",
   "execution_count": null,
   "metadata": {},
   "outputs": [],
   "source": [
    "import numpy as np"
   ]
  },
  {
   "cell_type": "code",
   "execution_count": null,
   "metadata": {},
   "outputs": [],
   "source": [
    "# want to fill a given vector of objects into a table with a given number of columns, column by column\n",
    "k = ['a', 'b', 'c', 'd', 'e', 'f', 'g', 'h', 'i']\n",
    "n_col = 2\n",
    "\n",
    "n_row = divmod(len(k), n_col)[0] + (divmod(len(k), n_col)[1]>0)   # number of rows\n",
    "\n",
    "# store strings in a 2d np array\n",
    "tb = np.empty([n_row, n_col], dtype=str)\n",
    "\n",
    "# fill first col, and then second col, and so on\n",
    "for i in range(len(k)):\n",
    "    col_indx, row_indx = divmod(i, n_row)\n",
    "    tb[row_indx, col_indx] = k[i]\n",
    "\n",
    "print(tb)"
   ]
  }
 ],
 "metadata": {
  "language_info": {
   "name": "python"
  },
  "orig_nbformat": 4
 },
 "nbformat": 4,
 "nbformat_minor": 2
}
