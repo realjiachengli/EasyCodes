{
 "cells": [
  {
   "cell_type": "code",
   "execution_count": 2,
   "metadata": {},
   "outputs": [],
   "source": [
    "import numpy as np"
   ]
  },
  {
   "cell_type": "code",
   "execution_count": 14,
   "metadata": {},
   "outputs": [
    {
     "name": "stdout",
     "output_type": "stream",
     "text": [
      "[['a & bbb' 'f']\n",
      " ['b' 'g']\n",
      " ['c' 'h']\n",
      " ['d' 'i']\n",
      " ['e' '']]\n"
     ]
    }
   ],
   "source": [
    "# want to fill a given vector of objects into a table with a given number of columns, column by column\n",
    "k = ['a & bbb', 'b', 'c', 'd', 'e', 'f', 'g', 'h', 'i']\n",
    "n_col = 2\n",
    "\n",
    "n_row = divmod(len(k), n_col)[0] + (divmod(len(k), n_col)[1]>0)   # number of rows\n",
    "\n",
    "# store strings in a 2d np array\n",
    "tb = np.full([n_row, n_col], fill_value='', dtype=object)\n",
    "\n",
    "# fill first col, and then second col, and so on\n",
    "for i in range(len(k)):\n",
    "    col_indx, row_indx = divmod(i, n_row)\n",
    "    tb[row_indx, col_indx] = k[i]\n",
    "\n",
    "print(tb)"
   ]
  }
 ],
 "metadata": {
  "kernelspec": {
   "display_name": "my-env",
   "language": "python",
   "name": "python3"
  },
  "language_info": {
   "codemirror_mode": {
    "name": "ipython",
    "version": 3
   },
   "file_extension": ".py",
   "mimetype": "text/x-python",
   "name": "python",
   "nbconvert_exporter": "python",
   "pygments_lexer": "ipython3",
   "version": "3.10.10"
  },
  "orig_nbformat": 4
 },
 "nbformat": 4,
 "nbformat_minor": 2
}
